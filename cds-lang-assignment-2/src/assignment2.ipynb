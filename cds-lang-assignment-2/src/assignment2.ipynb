{
 "cells": [
  {
   "cell_type": "markdown",
   "metadata": {},
   "source": [
    "pip install scikit-learn matplotlib pandas numpy seaborn "
   ]
  },
  {
   "cell_type": "code",
   "execution_count": 115,
   "metadata": {},
   "outputs": [],
   "source": [
    "from joblib import dump, load\n",
    "\n",
    "import os\n",
    "import sys\n",
    "\n",
    "# data munging tools\n",
    "import pandas as pd\n",
    "import numpy as np\n",
    "\n",
    "# Machine learning stuff\n",
    "from sklearn.model_selection import train_test_split, ShuffleSplit\n",
    "from sklearn.feature_extraction.text import CountVectorizer, TfidfVectorizer\n",
    "from sklearn.linear_model import LogisticRegression\n",
    "from sklearn.neural_network import MLPClassifier\n",
    "from sklearn import metrics\n",
    "\n",
    "import scipy as sp\n",
    "\n",
    "\n",
    "# Visualisation\n",
    "import matplotlib.pyplot as plt"
   ]
  },
  {
   "cell_type": "code",
   "execution_count": 9,
   "metadata": {},
   "outputs": [],
   "source": [
    "#data load and handeling \n",
    "filepath = os.path.join(\"..\", \"in\",\"fake_or_real_news.csv\")\n",
    "news = pd.read_csv(filepath, index_col=0)\n",
    "X = news[\"text\"]\n",
    "y = news[\"label\"]\n",
    "\n",
    "X_train, X_test, y_train, y_test = train_test_split(X, y, test_size=0.2, random_state=42)"
   ]
  },
  {
   "cell_type": "code",
   "execution_count": 18,
   "metadata": {},
   "outputs": [],
   "source": [
    "#vectoriser \n",
    "vectorizer = TfidfVectorizer(ngram_range = (1,2), lowercase =  True, max_df = 0.95, min_df = 0.05, max_features = 500)    "
   ]
  },
  {
   "cell_type": "code",
   "execution_count": 29,
   "metadata": {},
   "outputs": [],
   "source": [
    "# first we fit to the training data...\n",
    "X_train_features = vectorizer.fit_transform(X_train)\n",
    "\n",
    "#... then do it for our test data\n",
    "X_test_features = vectorizer.transform(X_test)\n",
    "\n",
    "# get feature names\n",
    "feature_names = vectorizer.get_feature_names_out()"
   ]
  },
  {
   "cell_type": "code",
   "execution_count": 39,
   "metadata": {},
   "outputs": [
    {
     "data": {
      "text/plain": [
       "['../models/tfidf_vectorizer.joblib']"
      ]
     },
     "execution_count": 39,
     "metadata": {},
     "output_type": "execute_result"
    }
   ],
   "source": [
    "dump(vectorizer, \"../models/tfidf_vectorizer.joblib\")"
   ]
  },
  {
   "cell_type": "code",
   "execution_count": 48,
   "metadata": {},
   "outputs": [],
   "source": [
    "vectorized_data_fp = \"../in\""
   ]
  },
  {
   "cell_type": "code",
   "execution_count": 108,
   "metadata": {},
   "outputs": [],
   "source": [
    "vectorized_data = [X_train, X_test, y_train, y_test, X_train_features, X_test_features, feature_names]\n",
    "vectorized_data_names = [\"X_train\", \"X_test\", \"y_train\", \"y_test\", \"X_train_features\", \"X_test_features\", \"feature_names\"]"
   ]
  },
  {
   "cell_type": "code",
   "execution_count": 120,
   "metadata": {},
   "outputs": [],
   "source": [
    "def save_data(data, name, filepath):\n",
    "    if type(data) == sp.sparse._csr.csr_matrix:\n",
    "        sp.sparse.save_npz(\n",
    "            os.path.join(filepath, f'{name}.npz'), \n",
    "            data, \n",
    "            compressed=True)\n",
    "    elif type(data) == pd.core.series.Series:\n",
    "        data.to_csv(os.path.join(filepath, f'{name}.csv'))\n",
    "    elif type(data) == np.ndarray:\n",
    "        data_con = pd.DataFrame(data)\n",
    "        data_con.to_csv(os.path.join(filepath, f'{name}.csv'))\n",
    "    else: \n",
    "        print(f'{name}: not csr_matrix or Series')"
   ]
  },
  {
   "cell_type": "code",
   "execution_count": 122,
   "metadata": {},
   "outputs": [],
   "source": [
    "for (data, name) in zip (vectorized_data, vectorized_data_names):\n",
    "    save_data(data, name, vectorized_data_fp)"
   ]
  },
  {
   "cell_type": "code",
   "execution_count": 46,
   "metadata": {},
   "outputs": [],
   "source": [
    "npz_train_feats = sp.sparse.load_npz('../in/X_train_features.npz')\n"
   ]
  },
  {
   "cell_type": "code",
   "execution_count": 31,
   "metadata": {},
   "outputs": [],
   "source": [
    "classifier_LR = LogisticRegression(random_state=42).fit(X_train_features, y_train)\n",
    "y_pred_LR = classifier_LR.predict(X_test_features)\n",
    "classifier_LR_metrics = metrics.classification_report(y_test, y_pred_LR)"
   ]
  },
  {
   "cell_type": "code",
   "execution_count": 36,
   "metadata": {},
   "outputs": [
    {
     "data": {
      "text/plain": [
       "['../models/classifier_LR.joblib']"
      ]
     },
     "execution_count": 36,
     "metadata": {},
     "output_type": "execute_result"
    }
   ],
   "source": [
    "#save model and txt metrics\n",
    "filepath_metrics_LR = open(r'../out/classifier_LR_metrics.txt', 'w')\n",
    "filepath_metrics_LR.write(classifier_LR_metrics)\n",
    "filepath_metrics_LR.close()\n",
    "\n",
    "dump(classifier_LR, \"../models/classifier_LR.joblib\")"
   ]
  },
  {
   "cell_type": "code",
   "execution_count": 37,
   "metadata": {},
   "outputs": [],
   "source": [
    "classifier_MLP = MLPClassifier(activation = \"logistic\",\n",
    "                               hidden_layer_sizes = (20,), \n",
    "                               max_iter=1000, \n",
    "                               random_state=42).fit(X_train_features, y_train)\n",
    "\n",
    "y_pred_MLP = classifier_MLP.predict(X_test_features)\n",
    "\n",
    "classifier_MLP_metrics = metrics.classification_report(y_test, y_pred_MLP)"
   ]
  },
  {
   "cell_type": "code",
   "execution_count": 38,
   "metadata": {},
   "outputs": [
    {
     "data": {
      "text/plain": [
       "['../models/classifier_MLP.joblib']"
      ]
     },
     "execution_count": 38,
     "metadata": {},
     "output_type": "execute_result"
    }
   ],
   "source": [
    "#save model and txt metrics\n",
    "filepath_metrics_MLP = open(r'../out/classifier_MLP_metrics.txt', 'w')\n",
    "filepath_metrics_MLP.write(classifier_MLP_metrics)\n",
    "filepath_metrics_MLP.close()\n",
    "\n",
    "dump(classifier_MLP, \"../models/classifier_MLP.joblib\")"
   ]
  }
 ],
 "metadata": {
  "kernelspec": {
   "display_name": "Python 3",
   "language": "python",
   "name": "python3"
  },
  "language_info": {
   "codemirror_mode": {
    "name": "ipython",
    "version": 3
   },
   "file_extension": ".py",
   "mimetype": "text/x-python",
   "name": "python",
   "nbconvert_exporter": "python",
   "pygments_lexer": "ipython3",
   "version": "3.10.12"
  }
 },
 "nbformat": 4,
 "nbformat_minor": 2
}
