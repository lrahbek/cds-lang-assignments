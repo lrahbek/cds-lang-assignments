{
 "cells": [
  {
   "cell_type": "markdown",
   "metadata": {},
   "source": [
    "### notes assignment 2"
   ]
  },
  {
   "cell_type": "markdown",
   "metadata": {},
   "source": [
    "#### set up "
   ]
  },
  {
   "cell_type": "code",
   "execution_count": null,
   "metadata": {},
   "outputs": [],
   "source": [
    "import os\n",
    "import sys\n",
    "\n",
    "import pandas as pd\n",
    "import numpy as np\n",
    "import scipy as sp\n",
    "from joblib import dump, load\n",
    "from sklearn.model_selection import train_test_split, ShuffleSplit\n",
    "from sklearn.feature_extraction.text import CountVectorizer, TfidfVectorizer\n",
    "from sklearn import metrics\n",
    "from sklearn.neural_network import MLPClassifier\n",
    "from sklearn.linear_model import LogisticRegression"
   ]
  },
  {
   "cell_type": "markdown",
   "metadata": {},
   "source": [
    "### Functions "
   ]
  },
  {
   "cell_type": "markdown",
   "metadata": {},
   "source": [
    "### vectorizer.py script "
   ]
  },
  {
   "cell_type": "code",
   "execution_count": null,
   "metadata": {},
   "outputs": [],
   "source": [
    "# Read fake or real news data and define test and train split\n",
    "filepath_data = os.path.join(\"..\", \"in\",\"fake_or_real_news.csv\")\n",
    "news = pd.read_csv(filepath_data, index_col=0)\n",
    "X = news[\"text\"]\n",
    "y = news[\"label\"]\n",
    "X_train, X_test, y_train, y_test = train_test_split(X, y, test_size=0.2, random_state=42)"
   ]
  },
  {
   "cell_type": "code",
   "execution_count": null,
   "metadata": {},
   "outputs": [],
   "source": [
    "# Define vectorizer\n",
    "vectorizer = TfidfVectorizer(ngram_range = (1,2), lowercase =  True, max_df = 0.95, min_df = 0.05, max_features = 500)    "
   ]
  },
  {
   "cell_type": "code",
   "execution_count": null,
   "metadata": {},
   "outputs": [],
   "source": [
    "# Fit vectorizer to data and extract feature names\n",
    "X_train_features = vectorizer.fit_transform(X_train)\n",
    "X_test_features = vectorizer.transform(X_test)\n",
    "feature_names = vectorizer.get_feature_names_out()"
   ]
  },
  {
   "cell_type": "code",
   "execution_count": null,
   "metadata": {},
   "outputs": [],
   "source": [
    "# Save vectorizer in 'models' folder\n",
    "dump(vectorizer, \"../models/tfidf_vectorizer.joblib\")"
   ]
  },
  {
   "cell_type": "code",
   "execution_count": null,
   "metadata": {},
   "outputs": [],
   "source": [
    "# Save vectorized data, extracted features etc to 'features' folder\n",
    "vectorized_data = [X_train, X_test, y_train, y_test, X_train_features, X_test_features, feature_names]\n",
    "\n",
    "f = open('../out/features.pkl', 'wb' )\n",
    "pickle.dump(vectorized_data, f)\n",
    "f.close()"
   ]
  },
  {
   "cell_type": "markdown",
   "metadata": {},
   "source": [
    "### LR_classifier.py script"
   ]
  },
  {
   "cell_type": "code",
   "execution_count": null,
   "metadata": {},
   "outputs": [],
   "source": [
    "# Load the stored data \n",
    "X_train, X_test, y_train, y_test, X_train_features, X_test_features, feature_names = pd.read_pickle('../out/features.pkl')"
   ]
  },
  {
   "cell_type": "code",
   "execution_count": null,
   "metadata": {},
   "outputs": [],
   "source": [
    "# Fit logistic regression classifier to training set, save it in 'models' folder, \n",
    "# and test it on test set. \n",
    "classifier_LR = LogisticRegression(random_state=42).fit(X_train_features, y_train)\n",
    "dump(classifier_LR, \"../models/classifier_LR.joblib\")\n",
    "y_pred_LR = classifier_LR.predict(X_test_features)"
   ]
  },
  {
   "cell_type": "code",
   "execution_count": null,
   "metadata": {},
   "outputs": [],
   "source": [
    "# Calculate evalutation metrics and save them as txt file in 'out' folder \n",
    "classifier_LR_metrics = metrics.classification_report(y_test, y_pred_LR)\n",
    "\n",
    "\n",
    "save_metrics(classifier_LR_metrics)"
   ]
  },
  {
   "cell_type": "markdown",
   "metadata": {},
   "source": [
    "### MLP_classifier.py script"
   ]
  },
  {
   "cell_type": "code",
   "execution_count": null,
   "metadata": {},
   "outputs": [],
   "source": [
    "# Load the stored data \n",
    "X_train, X_test, y_train, y_test, X_train_features, X_test_features, feature_names = pd.read_pickle('../out/features.pkl')"
   ]
  },
  {
   "cell_type": "code",
   "execution_count": null,
   "metadata": {},
   "outputs": [],
   "source": [
    "# Fit MLP classifier to training set, save it in 'models' folder, \n",
    "# and test it on test set. \n",
    "classifier_MLP = MLPClassifier(activation = \"logistic\",\n",
    "                               hidden_layer_sizes = (20,), \n",
    "                               max_iter=1000, \n",
    "                               random_state=42).fit(X_train_features, y_train)\n",
    "dump(classifier_MLP, \"../models/classifier_MLP.joblib\")\n",
    "\n",
    "y_pred_MLP = classifier_MLP.predict(X_test_features)"
   ]
  },
  {
   "cell_type": "code",
   "execution_count": null,
   "metadata": {},
   "outputs": [],
   "source": [
    "# Calculate evalutation metrics and save them as txt file in 'out'folder \n",
    "classifier_MLP_metrics = metrics.classification_report(y_test, y_pred_MLP)\n",
    "\n",
    "\n",
    "save_metrics(classifier_MLP_metrics)"
   ]
  }
 ],
 "metadata": {
  "kernelspec": {
   "display_name": "Python 3",
   "language": "python",
   "name": "python3"
  },
  "language_info": {
   "name": "python",
   "version": "3.10.12"
  }
 },
 "nbformat": 4,
 "nbformat_minor": 2
}
