{
 "cells": [
  {
   "cell_type": "markdown",
   "metadata": {},
   "source": [
    "pip install scikit-learn matplotlib pandas numpy seaborn "
   ]
  },
  {
   "cell_type": "code",
   "execution_count": 1,
   "metadata": {},
   "outputs": [],
   "source": [
    "import os\n",
    "import sys\n",
    "\n",
    "import pandas as pd\n",
    "import numpy as np\n",
    "import scipy as sp\n",
    "\n",
    "from sklearn.model_selection import train_test_split, ShuffleSplit\n",
    "from sklearn.feature_extraction.text import CountVectorizer, TfidfVectorizer\n",
    "from sklearn.linear_model import LogisticRegression\n",
    "from sklearn.neural_network import MLPClassifier\n",
    "from sklearn import metrics\n",
    "\n",
    "from joblib import dump, load"
   ]
  },
  {
   "cell_type": "code",
   "execution_count": 4,
   "metadata": {},
   "outputs": [],
   "source": [
    "#data load and handeling \n",
    "filepath_data = os.path.join(\"..\", \"in\",\"fake_or_real_news.csv\")\n",
    "news = pd.read_csv(filepath_data, index_col=0)\n",
    "X = news[\"text\"]\n",
    "y = news[\"label\"]\n",
    "\n",
    "X_train, X_test, y_train, y_test = train_test_split(X, y, test_size=0.2, random_state=42)"
   ]
  },
  {
   "cell_type": "code",
   "execution_count": 5,
   "metadata": {},
   "outputs": [],
   "source": [
    "#vectoriser \n",
    "vectorizer = TfidfVectorizer(ngram_range = (1,2), lowercase =  True, max_df = 0.95, min_df = 0.05, max_features = 500)    "
   ]
  },
  {
   "cell_type": "code",
   "execution_count": 6,
   "metadata": {},
   "outputs": [],
   "source": [
    "X_train_features = vectorizer.fit_transform(X_train)\n",
    "X_test_features = vectorizer.transform(X_test)\n",
    "feature_names = vectorizer.get_feature_names_out()"
   ]
  },
  {
   "cell_type": "code",
   "execution_count": 8,
   "metadata": {},
   "outputs": [
    {
     "data": {
      "text/plain": [
       "['../models/tfidf_vectorizer.joblib']"
      ]
     },
     "execution_count": 8,
     "metadata": {},
     "output_type": "execute_result"
    }
   ],
   "source": [
    "dump(vectorizer, \"../models/tfidf_vectorizer.joblib\")"
   ]
  },
  {
   "cell_type": "code",
   "execution_count": 3,
   "metadata": {},
   "outputs": [],
   "source": [
    "filepath_features = \"../features\""
   ]
  },
  {
   "cell_type": "code",
   "execution_count": 8,
   "metadata": {},
   "outputs": [],
   "source": [
    "vectorized_data = [X_train, X_test, y_train, y_test, X_train_features, X_test_features, feature_names]\n",
    "vectorized_data_names = [\"X_train\", \"X_test\", \"y_train\", \"y_test\", \"X_train_features\", \"X_test_features\", \"feature_names\"]"
   ]
  },
  {
   "cell_type": "code",
   "execution_count": 9,
   "metadata": {},
   "outputs": [],
   "source": [
    "def save_data(data, name, filepath):\n",
    "    if type(data) == sp.sparse._csr.csr_matrix:\n",
    "        sp.sparse.save_npz(\n",
    "            os.path.join(filepath, f'{name}.npz'), \n",
    "            data, \n",
    "            compressed=True)\n",
    "    elif type(data) == pd.core.series.Series:\n",
    "        data.to_csv(os.path.join(filepath, f'{name}.csv'))\n",
    "    elif type(data) == np.ndarray:\n",
    "        data.dump(os.path.join(filepath, f'{name}.dat'))\n",
    "    else: \n",
    "        print(f'{name}: not csr_matrix or Series')"
   ]
  },
  {
   "cell_type": "code",
   "execution_count": 10,
   "metadata": {},
   "outputs": [],
   "source": [
    "for (data, name) in zip (vectorized_data, vectorized_data_names):\n",
    "    save_data(data, name, filepath_features)"
   ]
  },
  {
   "cell_type": "code",
   "execution_count": 19,
   "metadata": {},
   "outputs": [],
   "source": [
    "def load_data(name, filepath, form):\n",
    "    data_name = f'{name}'\n",
    "    if form == 'npz':\n",
    "        data_name = sp.sparse.load_npz(filepath)\n",
    "    elif form == 'csv':\n",
    "        data_name = pd.read_csv(filepath)\n",
    "    elif form == 'dat':\n",
    "        data_name = np.load(filepath, allow_pickle=True)\n",
    "    else: \n",
    "        print(f'{name}: not csr_matrix or Series')\n",
    "    return data_name"
   ]
  },
  {
   "cell_type": "code",
   "execution_count": 23,
   "metadata": {},
   "outputs": [
    {
     "name": "stdout",
     "output_type": "stream",
     "text": [
      "X_test_features npz\n",
      "X_test csv\n",
      "feature_names dat\n",
      "y_test csv\n",
      "X_train_features npz\n",
      "y_train csv\n",
      "X_train csv\n"
     ]
    }
   ],
   "source": [
    "for file in os.listdir(filepath_features):\n",
    "    filepath = os.path.join(filepath_features, file)\n",
    "\n",
    "    name, form = file.split('.')\n",
    "    print(name, form)\n",
    "    #name = load_data(name, filepath, form)"
   ]
  },
  {
   "cell_type": "code",
   "execution_count": 22,
   "metadata": {},
   "outputs": [
    {
     "data": {
      "text/plain": [
       "['X_test_features.npz',\n",
       " 'X_test.csv',\n",
       " 'feature_names.dat',\n",
       " 'y_test.csv',\n",
       " 'X_train_features.npz',\n",
       " 'y_train.csv',\n",
       " 'X_train.csv']"
      ]
     },
     "execution_count": 22,
     "metadata": {},
     "output_type": "execute_result"
    }
   ],
   "source": [
    "os.listdir(filepath_features)"
   ]
  },
  {
   "cell_type": "code",
   "execution_count": 7,
   "metadata": {},
   "outputs": [],
   "source": [
    "def save_metrics(model_metrics):\n",
    "    model_metrics_name = f\"{model_metrics=}\".split(\"=\")[0]\n",
    "    filepath_metrics = open(f'../out/{model_metrics_name}.txt', 'w')\n",
    "    filepath_metrics.write(model_metrics)\n",
    "    filepath_metrics.close()\n"
   ]
  },
  {
   "cell_type": "code",
   "execution_count": 6,
   "metadata": {},
   "outputs": [
    {
     "name": "stdout",
     "output_type": "stream",
     "text": [
      "x\n"
     ]
    }
   ],
   "source": [
    "x = 5\n",
    "variable_name = f\"{x=}\".split(\"=\")[0]\n",
    "print(variable_name)"
   ]
  },
  {
   "cell_type": "code",
   "execution_count": 8,
   "metadata": {},
   "outputs": [
    {
     "ename": "NameError",
     "evalue": "name 'X_train_features' is not defined",
     "output_type": "error",
     "traceback": [
      "\u001b[0;31m---------------------------------------------------------------------------\u001b[0m",
      "\u001b[0;31mNameError\u001b[0m                                 Traceback (most recent call last)",
      "\u001b[1;32m/work/lang_cds_ucloud/cds-lang-assignments/cds-lang-assignment-2/src/assignment2_notes.ipynb Cell 16\u001b[0m line \u001b[0;36m1\n\u001b[0;32m----> <a href='vscode-notebook-cell://app-5023882-0.cloud.sdu.dk/work/lang_cds_ucloud/cds-lang-assignments/cds-lang-assignment-2/src/assignment2_notes.ipynb#X16sdnNjb2RlLXJlbW90ZQ%3D%3D?line=0'>1</a>\u001b[0m classifier_LR \u001b[39m=\u001b[39m LogisticRegression(random_state\u001b[39m=\u001b[39m\u001b[39m42\u001b[39m)\u001b[39m.\u001b[39mfit(X_train_features, y_train)\n\u001b[1;32m      <a href='vscode-notebook-cell://app-5023882-0.cloud.sdu.dk/work/lang_cds_ucloud/cds-lang-assignments/cds-lang-assignment-2/src/assignment2_notes.ipynb#X16sdnNjb2RlLXJlbW90ZQ%3D%3D?line=1'>2</a>\u001b[0m y_pred_LR \u001b[39m=\u001b[39m classifier_LR\u001b[39m.\u001b[39mpredict(X_test_features)\n\u001b[1;32m      <a href='vscode-notebook-cell://app-5023882-0.cloud.sdu.dk/work/lang_cds_ucloud/cds-lang-assignments/cds-lang-assignment-2/src/assignment2_notes.ipynb#X16sdnNjb2RlLXJlbW90ZQ%3D%3D?line=2'>3</a>\u001b[0m classifier_LR_metrics \u001b[39m=\u001b[39m metrics\u001b[39m.\u001b[39mclassification_report(y_test, y_pred_LR)\n",
      "\u001b[0;31mNameError\u001b[0m: name 'X_train_features' is not defined"
     ]
    }
   ],
   "source": [
    "classifier_LR = LogisticRegression(random_state=42).fit(X_train_features, y_train)\n",
    "y_pred_LR = classifier_LR.predict(X_test_features)\n",
    "classifier_LR_metrics = metrics.classification_report(y_test, y_pred_LR)"
   ]
  },
  {
   "cell_type": "code",
   "execution_count": 2,
   "metadata": {},
   "outputs": [
    {
     "ename": "NameError",
     "evalue": "name 'classifier_LR_metrics' is not defined",
     "output_type": "error",
     "traceback": [
      "\u001b[0;31m---------------------------------------------------------------------------\u001b[0m",
      "\u001b[0;31mNameError\u001b[0m                                 Traceback (most recent call last)",
      "\u001b[1;32m/work/lang_cds_ucloud/cds-lang-assignments/cds-lang-assignment-2/src/assignment2_notes.ipynb Cell 15\u001b[0m line \u001b[0;36m3\n\u001b[1;32m      <a href='vscode-notebook-cell://app-5023882-0.cloud.sdu.dk/work/lang_cds_ucloud/cds-lang-assignments/cds-lang-assignment-2/src/assignment2_notes.ipynb#X20sdnNjb2RlLXJlbW90ZQ%3D%3D?line=0'>1</a>\u001b[0m \u001b[39m#save model and txt metrics\u001b[39;00m\n\u001b[1;32m      <a href='vscode-notebook-cell://app-5023882-0.cloud.sdu.dk/work/lang_cds_ucloud/cds-lang-assignments/cds-lang-assignment-2/src/assignment2_notes.ipynb#X20sdnNjb2RlLXJlbW90ZQ%3D%3D?line=1'>2</a>\u001b[0m filepath_metrics_LR \u001b[39m=\u001b[39m \u001b[39mopen\u001b[39m(\u001b[39m'\u001b[39m\u001b[39m../out/classifier_LR_metrics.txt\u001b[39m\u001b[39m'\u001b[39m, \u001b[39m'\u001b[39m\u001b[39mw\u001b[39m\u001b[39m'\u001b[39m)\n\u001b[0;32m----> <a href='vscode-notebook-cell://app-5023882-0.cloud.sdu.dk/work/lang_cds_ucloud/cds-lang-assignments/cds-lang-assignment-2/src/assignment2_notes.ipynb#X20sdnNjb2RlLXJlbW90ZQ%3D%3D?line=2'>3</a>\u001b[0m filepath_metrics_LR\u001b[39m.\u001b[39mwrite(classifier_LR_metrics)\n\u001b[1;32m      <a href='vscode-notebook-cell://app-5023882-0.cloud.sdu.dk/work/lang_cds_ucloud/cds-lang-assignments/cds-lang-assignment-2/src/assignment2_notes.ipynb#X20sdnNjb2RlLXJlbW90ZQ%3D%3D?line=3'>4</a>\u001b[0m filepath_metrics_LR\u001b[39m.\u001b[39mclose()\n\u001b[1;32m      <a href='vscode-notebook-cell://app-5023882-0.cloud.sdu.dk/work/lang_cds_ucloud/cds-lang-assignments/cds-lang-assignment-2/src/assignment2_notes.ipynb#X20sdnNjb2RlLXJlbW90ZQ%3D%3D?line=5'>6</a>\u001b[0m dump(classifier_LR, \u001b[39m\"\u001b[39m\u001b[39m../models/classifier_LR.joblib\u001b[39m\u001b[39m\"\u001b[39m)\n",
      "\u001b[0;31mNameError\u001b[0m: name 'classifier_LR_metrics' is not defined"
     ]
    }
   ],
   "source": [
    "#save model and txt metrics\n",
    "filepath_metrics_LR = open(r'../out/classifier_LR_metrics.txt', 'w')\n",
    "filepath_metrics_LR.write(classifier_LR_metrics)\n",
    "filepath_metrics_LR.close()\n",
    "\n",
    "dump(classifier_LR, \"../models/classifier_LR.joblib\")"
   ]
  },
  {
   "cell_type": "code",
   "execution_count": 37,
   "metadata": {},
   "outputs": [],
   "source": [
    "classifier_MLP = MLPClassifier(activation = \"logistic\",\n",
    "                               hidden_layer_sizes = (20,), \n",
    "                               max_iter=1000, \n",
    "                               random_state=42).fit(X_train_features, y_train)\n",
    "\n",
    "y_pred_MLP = classifier_MLP.predict(X_test_features)\n",
    "\n",
    "classifier_MLP_metrics = metrics.classification_report(y_test, y_pred_MLP)"
   ]
  },
  {
   "cell_type": "code",
   "execution_count": 38,
   "metadata": {},
   "outputs": [
    {
     "data": {
      "text/plain": [
       "['../models/classifier_MLP.joblib']"
      ]
     },
     "execution_count": 38,
     "metadata": {},
     "output_type": "execute_result"
    }
   ],
   "source": [
    "#save model and txt metrics\n",
    "filepath_metrics_MLP = open(r'../out/classifier_MLP_metrics.txt', 'w')\n",
    "filepath_metrics_MLP.write(classifier_MLP_metrics)\n",
    "filepath_metrics_MLP.close()\n",
    "\n",
    "dump(classifier_MLP, \"../models/classifier_MLP.joblib\")"
   ]
  }
 ],
 "metadata": {
  "kernelspec": {
   "display_name": "Python 3",
   "language": "python",
   "name": "python3"
  },
  "language_info": {
   "codemirror_mode": {
    "name": "ipython",
    "version": 3
   },
   "file_extension": ".py",
   "mimetype": "text/x-python",
   "name": "python",
   "nbconvert_exporter": "python",
   "pygments_lexer": "ipython3",
   "version": "3.10.12"
  }
 },
 "nbformat": 4,
 "nbformat_minor": 2
}
