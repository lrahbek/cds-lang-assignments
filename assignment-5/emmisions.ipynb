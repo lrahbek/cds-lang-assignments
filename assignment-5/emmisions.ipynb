{
 "cells": [
  {
   "cell_type": "code",
   "execution_count": null,
   "metadata": {},
   "outputs": [],
   "source": [
    "import os\n",
    "from codecarbon import EmissionsTracker\n",
    "import pandas as pd\n",
    "from tqdm.notebook import tqdm\n",
    "\n"
   ]
  },
  {
   "cell_type": "code",
   "execution_count": null,
   "metadata": {},
   "outputs": [],
   "source": [
    "#out folder for all emmision trackers\n",
    "emi_folder = os.path.join(\"..\", \"assignment-5\", \"emissions\")                        \n",
    "os.mkdir(emi_folder)                                                 \n",
    "\n",
    "#define tracker, project_name, experiment_id and output file for each script\n",
    "tracker = EmissionsTracker(project_name=\"x\", \n",
    "                           experiment_id=\"x\",\n",
    "                           output_dir=emi_folder,\n",
    "                           output_file=\"x.csv\")\n",
    "\n",
    "#for each task start and stop tracker\n",
    "tracker.start_task(\"x\")   \n",
    "\n",
    "## task \n",
    "x = tracker.stop_task()                               \n",
    "\n",
    "\n",
    "tracker.stop()"
   ]
  }
 ],
 "metadata": {
  "language_info": {
   "name": "python"
  }
 },
 "nbformat": 4,
 "nbformat_minor": 2
}
