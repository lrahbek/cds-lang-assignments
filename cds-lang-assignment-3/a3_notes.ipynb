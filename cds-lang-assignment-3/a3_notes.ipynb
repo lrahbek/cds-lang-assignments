{
 "cells": [
  {
   "cell_type": "markdown",
   "metadata": {},
   "source": [
    "Assignment 3 notes "
   ]
  },
  {
   "cell_type": "code",
   "execution_count": 15,
   "metadata": {},
   "outputs": [],
   "source": [
    "#import packages \n",
    "import os\n",
    "import pandas as pd \n",
    "import gensim.downloader as api\n",
    "\n",
    "#packages for install\n",
    "#pandas "
   ]
  },
  {
   "cell_type": "markdown",
   "metadata": {},
   "source": [
    "Flow of assignment (in one script):\n",
    "\n",
    "- Loads the song lyric data\n",
    "- Downloads/loads a word embedding model via ```gensim``` (see below)\n",
    "\n",
    "- Takes a given word as an input and finds the most similar words via word embeddings\n",
    "- Find how many songs for a given artist feature terms from the expanded query\n",
    "- Calculate the percentage of that artist's songs featuring those terms\n",
    "- Print and/or save results in an easy-to-understand way\n",
    "    - For example, \"45% of {ARTIST}'s songs contain words related to {SEARCH TERM}\""
   ]
  },
  {
   "cell_type": "code",
   "execution_count": 4,
   "metadata": {},
   "outputs": [],
   "source": [
    "#load songs\n",
    "filenpath = os.path.join(\"in\", \"Spotify Million Song Dataset_exported.csv\")\n",
    "\n",
    "songs = pd.read_csv(filenpath)"
   ]
  },
  {
   "cell_type": "code",
   "execution_count": 16,
   "metadata": {},
   "outputs": [
    {
     "name": "stdout",
     "output_type": "stream",
     "text": [
      "[==================================================] 100.0% 66.0/66.0MB downloaded\n"
     ]
    }
   ],
   "source": [
    "#load model\n",
    "model = api.load(\"glove-wiki-gigaword-50\")"
   ]
  },
  {
   "cell_type": "code",
   "execution_count": 36,
   "metadata": {},
   "outputs": [],
   "source": [
    "# Function to check if artists exists in corpus, makes both input and corpus lwoer case \n",
    "def artist_find(artist_q):\n",
    "    \"\"\"\n",
    "    The function takes a string, if the string matches with an artist name, \n",
    "    a subset of the songs dataframe is returned, only with the given artist's songs.\n",
    "    \"\"\"\n",
    "    artist_q = artist_q.lower()\n",
    "    songs[\"artist\"] = (songs[\"artist\"]).str.lower()\n",
    "    \n",
    "    if (songs['artist'].eq(artist_q).any()):\n",
    "        artist_songs = songs[songs[\"artist\"] == artist_q]\n",
    "    else: print('Artist not found') \n",
    "\n",
    "    return artist_songs"
   ]
  },
  {
   "cell_type": "code",
   "execution_count": 87,
   "metadata": {},
   "outputs": [],
   "source": [
    "ts_songs = artist_find(\"Taylor Swift\")"
   ]
  },
  {
   "cell_type": "code",
   "execution_count": 85,
   "metadata": {},
   "outputs": [],
   "source": [
    "query = model.most_similar(\"love\")\n",
    "query_ls = ([i[0] for i in query])\n",
    "query_ls.append(\"love\")"
   ]
  },
  {
   "cell_type": "code",
   "execution_count": 133,
   "metadata": {},
   "outputs": [],
   "source": [
    "ts_text = list(ts_songs[\"text\"])"
   ]
  },
  {
   "cell_type": "code",
   "execution_count": 139,
   "metadata": {},
   "outputs": [
    {
     "ename": "TypeError",
     "evalue": "'list' object cannot be interpreted as an integer",
     "output_type": "error",
     "traceback": [
      "\u001b[0;31m---------------------------------------------------------------------------\u001b[0m",
      "\u001b[0;31mTypeError\u001b[0m                                 Traceback (most recent call last)",
      "\u001b[1;32m/work/lang_cds_ucloud/cds-lang-assignments/cds-lang-assignment-3/a3_notes.ipynb Cell 10\u001b[0m line \u001b[0;36m1\n\u001b[0;32m----> <a href='vscode-notebook-cell://app-5028061-0.cloud.sdu.dk/work/lang_cds_ucloud/cds-lang-assignments/cds-lang-assignment-3/a3_notes.ipynb#X50sdnNjb2RlLXJlbW90ZQ%3D%3D?line=0'>1</a>\u001b[0m \u001b[39mrange\u001b[39;49m(ts_text)\n",
      "\u001b[0;31mTypeError\u001b[0m: 'list' object cannot be interpreted as an integer"
     ]
    }
   ],
   "source": [
    "range(ts_text)"
   ]
  },
  {
   "cell_type": "code",
   "execution_count": 93,
   "metadata": {},
   "outputs": [],
   "source": [
    "song_count = 0\n",
    "for text in ts_songs[\"text\"]:\n",
    "    text_tokens = text.lower().split()\n",
    "\n",
    "    q_count = text_tokens.count(query_ls)\n",
    "\n",
    "    if q_count > 0:\n",
    "        song_count =+1\n",
    "    else: pass"
   ]
  },
  {
   "cell_type": "code",
   "execution_count": 104,
   "metadata": {},
   "outputs": [],
   "source": [
    "text = ts_songs[\"text\"].iloc[0]\n",
    "text_tokens = text.lower().split()"
   ]
  },
  {
   "cell_type": "code",
   "execution_count": 115,
   "metadata": {},
   "outputs": [
    {
     "ename": "TypeError",
     "evalue": "list.count() takes exactly one argument (0 given)",
     "output_type": "error",
     "traceback": [
      "\u001b[0;31m---------------------------------------------------------------------------\u001b[0m",
      "\u001b[0;31mTypeError\u001b[0m                                 Traceback (most recent call last)",
      "\u001b[1;32m/work/lang_cds_ucloud/cds-lang-assignments/cds-lang-assignment-3/a3_notes.ipynb Cell 11\u001b[0m line \u001b[0;36m1\n\u001b[0;32m----> <a href='vscode-notebook-cell://app-5028061-0.cloud.sdu.dk/work/lang_cds_ucloud/cds-lang-assignments/cds-lang-assignment-3/a3_notes.ipynb#X45sdnNjb2RlLXJlbW90ZQ%3D%3D?line=0'>1</a>\u001b[0m text_tokens\u001b[39m.\u001b[39;49mcount()\n",
      "\u001b[0;31mTypeError\u001b[0m: list.count() takes exactly one argument (0 given)"
     ]
    }
   ],
   "source": [
    "song_count = 0\n",
    "\n",
    "for \n",
    "for i in query_ls:\n",
    "    q_count = text_tokens.count(query_ls[i])\n",
    "    if q_count> 0 :\n",
    "        song_count =+1\n"
   ]
  },
  {
   "cell_type": "code",
   "execution_count": 112,
   "metadata": {},
   "outputs": [],
   "source": [
    "q_count = text_tokens.count(['you','cold'])"
   ]
  }
 ],
 "metadata": {
  "kernelspec": {
   "display_name": "Python 3",
   "language": "python",
   "name": "python3"
  },
  "language_info": {
   "codemirror_mode": {
    "name": "ipython",
    "version": 3
   },
   "file_extension": ".py",
   "mimetype": "text/x-python",
   "name": "python",
   "nbconvert_exporter": "python",
   "pygments_lexer": "ipython3",
   "version": "3.10.12"
  }
 },
 "nbformat": 4,
 "nbformat_minor": 2
}
