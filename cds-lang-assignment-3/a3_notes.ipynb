{
 "cells": [
  {
   "cell_type": "markdown",
   "metadata": {},
   "source": [
    "Assignment 3 notes "
   ]
  },
  {
   "cell_type": "code",
   "execution_count": 1,
   "metadata": {},
   "outputs": [],
   "source": [
    "#import packages \n",
    "import os\n",
    "\n",
    "import pandas as pd \n",
    "import gensim.downloader as api\n",
    "from collections import Counter\n",
    "import string\n",
    "#packages for install\n",
    "#pandas gensim"
   ]
  },
  {
   "cell_type": "markdown",
   "metadata": {},
   "source": [
    "Flow of assignment (in one script):\n",
    "\n",
    "- Loads the song lyric data\n",
    "- Downloads/loads a word embedding model via ```gensim``` (see below)\n",
    "\n",
    "- Takes a given word as an input and finds the most similar words via word embeddings\n",
    "- Find how many songs for a given artist feature terms from the expanded query\n",
    "- Calculate the percentage of that artist's songs featuring those terms\n",
    "- Print and/or save results in an easy-to-understand way\n",
    "    - For example, \"45% of {ARTIST}'s songs contain words related to {SEARCH TERM}\""
   ]
  },
  {
   "cell_type": "code",
   "execution_count": 17,
   "metadata": {},
   "outputs": [],
   "source": [
    "#load songs\n",
    "filepath = os.path.join(\"in\", \"Spotify Million Song Dataset_exported.csv\")\n",
    "\n",
    "songs = pd.read_csv(filepath)"
   ]
  },
  {
   "cell_type": "code",
   "execution_count": 18,
   "metadata": {},
   "outputs": [],
   "source": [
    "#load model\n",
    "model = api.load(\"glove-wiki-gigaword-50\")"
   ]
  },
  {
   "cell_type": "code",
   "execution_count": 6,
   "metadata": {},
   "outputs": [],
   "source": [
    "# Function to check if artists exists in corpus, makes both input and corpus lower case \n",
    "def artist_find(artist_q):\n",
    "    \"\"\"\n",
    "    The function takes a string, if the string matches with an artist name, \n",
    "    a subset of the songs dataframe is returned, only with the given artist's songs.\n",
    "    \"\"\"\n",
    "    artist_q = artist_q.lower()\n",
    "    songs[\"artist\"] = (songs[\"artist\"]).str.lower()\n",
    "    \n",
    "    if (songs['artist'].eq(artist_q).any()):\n",
    "        artist_cor = songs[songs[\"artist\"] == artist_q]\n",
    "        artist_songs = list(artist_cor[\"text\"])\n",
    "        \n",
    "    else: print('Artist not found') \n",
    "\n",
    "    return artist_songs"
   ]
  },
  {
   "cell_type": "code",
   "execution_count": 7,
   "metadata": {},
   "outputs": [],
   "source": [
    "ts_songs = artist_find(\"Taylor Swift\")"
   ]
  },
  {
   "cell_type": "code",
   "execution_count": 15,
   "metadata": {},
   "outputs": [],
   "source": [
    "def query_expansion(keyword):\n",
    "    query = model.most_similar(keyword)\n",
    "    query_ls = ([i[0] for i in query])\n",
    "    query_ls.append(keyword)\n",
    "\n",
    "    return query_ls"
   ]
  },
  {
   "cell_type": "code",
   "execution_count": 20,
   "metadata": {},
   "outputs": [
    {
     "data": {
      "text/plain": [
       "['break-up',\n",
       " 'disintegration',\n",
       " 'protracted',\n",
       " 'bankruptcy',\n",
       " 'divorce',\n",
       " 'dispute',\n",
       " 'demise',\n",
       " 'ending',\n",
       " 'split',\n",
       " 'wars',\n",
       " 'breakup']"
      ]
     },
     "execution_count": 20,
     "metadata": {},
     "output_type": "execute_result"
    }
   ],
   "source": [
    "query_expansion(\"breakup\")"
   ]
  },
  {
   "cell_type": "code",
   "execution_count": 13,
   "metadata": {},
   "outputs": [],
   "source": [
    "def clean_tokens(text):\n",
    "    tokens = text.lower().split()\n",
    "    tokens_cleaned = []\n",
    "    \n",
    "    for token in tokens: \n",
    "        strip_punct = token.strip(string.punctuation)\n",
    "        if not strip_punct == \"\":\n",
    "            tokens_cleaned.append(strip_punct)\n",
    "    \n",
    "    return tokens_cleaned"
   ]
  },
  {
   "cell_type": "code",
   "execution_count": 15,
   "metadata": {},
   "outputs": [],
   "source": [
    "tokens_cleaned = clean_tokens(ts_songs[1])"
   ]
  },
  {
   "cell_type": "code",
   "execution_count": 16,
   "metadata": {},
   "outputs": [],
   "source": [
    "def keyword_count(keyword, song_texts, artist_q):\n",
    "\n",
    "    query_c = Counter(query_expansion(keyword))\n",
    "    song_count = 0\n",
    "\n",
    "    for text in range(len(song_texts)):\n",
    "        tokens_cleaned = clean_tokens(song_texts[text])\n",
    "                        \n",
    "        tokens_c = Counter(tokens_cleaned)\n",
    "        keyword_count = (tokens_c & query_c).total()\n",
    "        if keyword_count > 0: \n",
    "            song_count +=1\n",
    "\n",
    "    songs_perc = round(((song_count/len(ts_songs))*100), 2)\n",
    "\n",
    "    return f\"{songs_perc}% of {artist_q}'s songs contains words related to {keyword}\"    "
   ]
  },
  {
   "cell_type": "code",
   "execution_count": 19,
   "metadata": {},
   "outputs": [
    {
     "data": {
      "text/plain": [
       "\"9.88% of Taylor Swift's songs contains words related to mad\""
      ]
     },
     "execution_count": 19,
     "metadata": {},
     "output_type": "execute_result"
    }
   ],
   "source": [
    "keyword_count(\"mad\", ts_songs, \"Taylor Swift\")"
   ]
  },
  {
   "cell_type": "code",
   "execution_count": 67,
   "metadata": {},
   "outputs": [],
   "source": [
    "def save_output(keyword):\n",
    "    keywords_output = open(\"out/keywords.txt\", \"r\")\n",
    "    text = f\"\\n{keyword}: \" + str(query_expansion(keyword)[0:10]) \n",
    "\n",
    "    if text in (keywords_output.readlines()): \n",
    "        print(text)\n",
    "        keywords_output.close()\n",
    "    else: \n",
    "        keywords_output.close()\n",
    "        keywords_output = open(\"out/keywords.txt\", \"a\")\n",
    "        keywords_output.write(text)\n",
    "        keywords_output.close()"
   ]
  },
  {
   "cell_type": "code",
   "execution_count": 70,
   "metadata": {},
   "outputs": [],
   "source": [
    "save_output(\"hello\")"
   ]
  }
 ],
 "metadata": {
  "kernelspec": {
   "display_name": "Python 3",
   "language": "python",
   "name": "python3"
  },
  "language_info": {
   "codemirror_mode": {
    "name": "ipython",
    "version": 3
   },
   "file_extension": ".py",
   "mimetype": "text/x-python",
   "name": "python",
   "nbconvert_exporter": "python",
   "pygments_lexer": "ipython3",
   "version": "3.10.12"
  }
 },
 "nbformat": 4,
 "nbformat_minor": 2
}
