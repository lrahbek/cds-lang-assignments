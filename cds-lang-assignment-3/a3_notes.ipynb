{
 "cells": [
  {
   "cell_type": "markdown",
   "metadata": {},
   "source": [
    "Assignment 3 notes "
   ]
  },
  {
   "cell_type": "code",
   "execution_count": 3,
   "metadata": {},
   "outputs": [],
   "source": [
    "#import packages \n",
    "import os\n",
    "import pandas as pd \n",
    "import gensim.downloader as api\n",
    "\n",
    "#packages for install\n",
    "#pandas gensim"
   ]
  },
  {
   "cell_type": "markdown",
   "metadata": {},
   "source": [
    "Flow of assignment (in one script):\n",
    "\n",
    "- Loads the song lyric data\n",
    "- Downloads/loads a word embedding model via ```gensim``` (see below)\n",
    "\n",
    "- Takes a given word as an input and finds the most similar words via word embeddings\n",
    "- Find how many songs for a given artist feature terms from the expanded query\n",
    "- Calculate the percentage of that artist's songs featuring those terms\n",
    "- Print and/or save results in an easy-to-understand way\n",
    "    - For example, \"45% of {ARTIST}'s songs contain words related to {SEARCH TERM}\""
   ]
  },
  {
   "cell_type": "code",
   "execution_count": 4,
   "metadata": {},
   "outputs": [],
   "source": [
    "#load songs\n",
    "filenpath = os.path.join(\"in\", \"Spotify Million Song Dataset_exported.csv\")\n",
    "\n",
    "songs = pd.read_csv(filenpath)"
   ]
  },
  {
   "cell_type": "code",
   "execution_count": 5,
   "metadata": {},
   "outputs": [
    {
     "name": "stdout",
     "output_type": "stream",
     "text": [
      "[==================================================] 100.0% 66.0/66.0MB downloaded\n"
     ]
    }
   ],
   "source": [
    "#load model\n",
    "model = api.load(\"glove-wiki-gigaword-50\")"
   ]
  },
  {
   "cell_type": "code",
   "execution_count": 6,
   "metadata": {},
   "outputs": [],
   "source": [
    "# Function to check if artists exists in corpus, makes both input and corpus lower case \n",
    "def artist_find(artist_q):\n",
    "    \"\"\"\n",
    "    The function takes a string, if the string matches with an artist name, \n",
    "    a subset of the songs dataframe is returned, only with the given artist's songs.\n",
    "    \"\"\"\n",
    "    artist_q = artist_q.lower()\n",
    "    songs[\"artist\"] = (songs[\"artist\"]).str.lower()\n",
    "    \n",
    "    if (songs['artist'].eq(artist_q).any()):\n",
    "        artist_songs = songs[songs[\"artist\"] == artist_q]\n",
    "    else: print('Artist not found') \n",
    "\n",
    "    return artist_songs"
   ]
  },
  {
   "cell_type": "code",
   "execution_count": 11,
   "metadata": {},
   "outputs": [],
   "source": [
    "ts_songs = artist_find(\"Taylor Swift\")"
   ]
  },
  {
   "cell_type": "code",
   "execution_count": 8,
   "metadata": {},
   "outputs": [],
   "source": [
    "query = model.most_similar(\"love\")\n",
    "query_ls = ([i[0] for i in query])\n",
    "query_ls.append(\"love\")"
   ]
  },
  {
   "cell_type": "code",
   "execution_count": 15,
   "metadata": {},
   "outputs": [
    {
     "data": {
      "text/plain": [
       "19137    You have a way of coming easily to me  \\nAnd w...\n",
       "19138    I've never gone with the wind, just let it flo...\n",
       "19139    All I knew this morning when I woke  \\nIs I kn...\n",
       "19140    You take a deep breath  \\nAnd you walk through...\n",
       "19141    Hey Stephen, I know looks can be deceiving  \\n...\n",
       "                               ...                        \n",
       "52781    He said the way my blue eyes shined  \\nPut tho...\n",
       "52782    Today was a fairytale  \\nYou were the prince  ...\n",
       "52783    I'm dreaming of a white Christmas  \\nJust like...\n",
       "52784    Say you're sorry  \\nThat face of an angel  \\nC...\n",
       "52785    He said, \"Let's get out of this town,  \\nDrive...\n",
       "Name: text, Length: 81, dtype: object"
      ]
     },
     "execution_count": 15,
     "metadata": {},
     "output_type": "execute_result"
    }
   ],
   "source": [
    "ts_songs[\"text\"]"
   ]
  },
  {
   "cell_type": "code",
   "execution_count": 9,
   "metadata": {},
   "outputs": [],
   "source": [
    "ts_text = list(ts_songs[\"text\"])"
   ]
  },
  {
   "cell_type": "code",
   "execution_count": 35,
   "metadata": {},
   "outputs": [
    {
     "name": "stdout",
     "output_type": "stream",
     "text": [
      "e\n"
     ]
    }
   ],
   "source": [
    "song_count = 0\n",
    "for text in ts_songs[\"text\"]:\n",
    "    text_tokens = text.lower().split()\n",
    "\n",
    "    q_count = 0\n",
    "    for keyword in query_ls:\n",
    "        q_count = q_count + (text_tokens.count(keyword))\n",
    "\n",
    "if q_count > 0:\n",
    "    song_count =+1\n",
    "    print(text[1])\n",
    "    "
   ]
  },
  {
   "cell_type": "code",
   "execution_count": 22,
   "metadata": {},
   "outputs": [
    {
     "data": {
      "text/plain": [
       "\"All I knew this morning when I woke  \\nIs I know something now, know something now I didn't before  \\nAnd all I've seen since 18 hours ago is green eyes and freckles  \\nAnd your smile in the back of my mind making me feel like  \\nI just want to know you better, know you better, know you better now  \\nI just want to know you better, know you better, know you better now  \\nI just want to know you better, know you better, know you better now  \\nI just want to know, you know you know you  \\n  \\n'Cause all I know is we said hello  \\nAnd your eyes look like coming home  \\nAll I know is a simple name, everything has changed  \\nAll I know is you held the door  \\nYou'll be mine and I'll be yours  \\nAll I know since yesterday is everything has changed  \\n  \\nAnd all my walls stood tall painted blue  \\nBut I'll take them down, take them down and open up the door for you  \\n  \\nAnd all I feel in my stomach is butterflies the beautiful kind  \\nMaking up for lost time, taking flight, making me feel like  \\n  \\nI just want to know you better, know you better, know you better now  \\nI just want to know you better, know you better, know you better now  \\nI just want to know you better, know you better, know you better now  \\nI just want to know you, know you know you  \\n  \\n'Cause all I know is we said hello  \\nAnd your eyes look like coming home  \\nAll I know is a simple name, everything has changed  \\nAll I know is you held the door  \\nYou'll be mine and I'll be yours  \\nAll I know since yesterday is everything has changed  \\n  \\nCome back and tell me why  \\nI'm feeling like I've missed you all this time  \\nAnd meet me there tonight  \\nAnd let me know that it's not all in my mind  \\n  \\nI just want to know you better, know you better, know you better now  \\nI just want to know you, know you, know you  \\n  \\n'Cause all I know is we said hello  \\nAnd your eyes look like coming home  \\nAll I know is a simple name, everything has changed  \\nAll I know is he held the door  \\nYou'll be mine and I'll be yours  \\nAll I know since yesterday is everything has changed  \\n  \\nAll I know is we said hello  \\nSo dust off your highest hopes  \\nAll I know is pouring rain  \\nAnd everything has changed  \\nAll I know is a new found grace  \\nAll my days, I'll know your face  \\nAll I know since yesterday is everything has changed\\n\\n\""
      ]
     },
     "execution_count": 22,
     "metadata": {},
     "output_type": "execute_result"
    }
   ],
   "source": [
    "(ts_songs[\"text\"]).iloc[2]"
   ]
  },
  {
   "cell_type": "code",
   "execution_count": 104,
   "metadata": {},
   "outputs": [],
   "source": [
    "text = ts_songs[\"text\"].iloc[0]\n",
    "text_tokens = text.lower().split()"
   ]
  },
  {
   "cell_type": "code",
   "execution_count": 115,
   "metadata": {},
   "outputs": [
    {
     "ename": "TypeError",
     "evalue": "list.count() takes exactly one argument (0 given)",
     "output_type": "error",
     "traceback": [
      "\u001b[0;31m---------------------------------------------------------------------------\u001b[0m",
      "\u001b[0;31mTypeError\u001b[0m                                 Traceback (most recent call last)",
      "\u001b[1;32m/work/lang_cds_ucloud/cds-lang-assignments/cds-lang-assignment-3/a3_notes.ipynb Cell 11\u001b[0m line \u001b[0;36m1\n\u001b[0;32m----> <a href='vscode-notebook-cell://app-5028061-0.cloud.sdu.dk/work/lang_cds_ucloud/cds-lang-assignments/cds-lang-assignment-3/a3_notes.ipynb#X45sdnNjb2RlLXJlbW90ZQ%3D%3D?line=0'>1</a>\u001b[0m text_tokens\u001b[39m.\u001b[39;49mcount()\n",
      "\u001b[0;31mTypeError\u001b[0m: list.count() takes exactly one argument (0 given)"
     ]
    }
   ],
   "source": [
    "song_count = 0\n",
    "\n",
    "for \n",
    "for i in query_ls:\n",
    "    q_count = text_tokens.count(query_ls[i])\n",
    "    if q_count> 0 :\n",
    "        song_count =+1\n"
   ]
  },
  {
   "cell_type": "code",
   "execution_count": 112,
   "metadata": {},
   "outputs": [],
   "source": [
    "q_count = text_tokens.count(['you','cold'])"
   ]
  }
 ],
 "metadata": {
  "kernelspec": {
   "display_name": "Python 3",
   "language": "python",
   "name": "python3"
  },
  "language_info": {
   "codemirror_mode": {
    "name": "ipython",
    "version": 3
   },
   "file_extension": ".py",
   "mimetype": "text/x-python",
   "name": "python",
   "nbconvert_exporter": "python",
   "pygments_lexer": "ipython3",
   "version": "3.10.12"
  }
 },
 "nbformat": 4,
 "nbformat_minor": 2
}
