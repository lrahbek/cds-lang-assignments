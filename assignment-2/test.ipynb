{
 "cells": [
  {
   "cell_type": "code",
   "execution_count": 13,
   "metadata": {},
   "outputs": [],
   "source": [
    "import os\n",
    "import sys\n",
    "import pandas as pd\n",
    "import numpy as np\n",
    "import scipy as sp\n",
    "from joblib import dump, load\n",
    "from sklearn.metrics import classification_report\n",
    "from sklearn.linear_model import LogisticRegression\n",
    "import pickle\n",
    "from sklearn.pipeline import Pipeline \n",
    "from sklearn.model_selection import GridSearchCV"
   ]
  },
  {
   "cell_type": "code",
   "execution_count": 31,
   "metadata": {},
   "outputs": [],
   "source": [
    "LRC1 = load(\"models/LRC_GS.joblib\")\n",
    "LRC2 = load(\"models/LRC_accuracy_GS.joblib\")\n",
    "LRC2gr = load(\"models/grid.joblib\")\n",
    "LRC2gr2 = load(\"models/grid2.joblib\")"
   ]
  },
  {
   "cell_type": "code",
   "execution_count": 34,
   "metadata": {},
   "outputs": [
    {
     "data": {
      "text/plain": [
       "{'cv': 10,\n",
       " 'error_score': nan,\n",
       " 'estimator__memory': None,\n",
       " 'estimator__steps': [('LRC',\n",
       "   LogisticRegression(max_iter=1000, random_state=42))],\n",
       " 'estimator__verbose': False,\n",
       " 'estimator__LRC': LogisticRegression(max_iter=1000, random_state=42),\n",
       " 'estimator__LRC__C': 1.0,\n",
       " 'estimator__LRC__class_weight': None,\n",
       " 'estimator__LRC__dual': False,\n",
       " 'estimator__LRC__fit_intercept': True,\n",
       " 'estimator__LRC__intercept_scaling': 1,\n",
       " 'estimator__LRC__l1_ratio': None,\n",
       " 'estimator__LRC__max_iter': 1000,\n",
       " 'estimator__LRC__multi_class': 'auto',\n",
       " 'estimator__LRC__n_jobs': None,\n",
       " 'estimator__LRC__penalty': 'l2',\n",
       " 'estimator__LRC__random_state': 42,\n",
       " 'estimator__LRC__solver': 'lbfgs',\n",
       " 'estimator__LRC__tol': 0.0001,\n",
       " 'estimator__LRC__verbose': 0,\n",
       " 'estimator__LRC__warm_start': False,\n",
       " 'estimator': Pipeline(steps=[('LRC', LogisticRegression(max_iter=1000, random_state=42))]),\n",
       " 'n_jobs': None,\n",
       " 'param_grid': [{'LRC__C': [1.0, 0.1, 0.01],\n",
       "   'LRC__tol': [1e-05, 0.0001, 0.001],\n",
       "   'LRC__solver': ['liblinear', 'saga'],\n",
       "   'LRC__penalty': ['l1', 'l2']},\n",
       "  {'LRC__C': [1.0, 0.1, 0.01],\n",
       "   'LRC__tol': [1e-05, 0.0001, 0.001],\n",
       "   'LRC__solver': ['lbfgs'],\n",
       "   'LRC__penalty': [None, 'l2']}],\n",
       " 'pre_dispatch': '2*n_jobs',\n",
       " 'refit': True,\n",
       " 'return_train_score': False,\n",
       " 'scoring': 'accuracy',\n",
       " 'verbose': 1}"
      ]
     },
     "execution_count": 34,
     "metadata": {},
     "output_type": "execute_result"
    }
   ],
   "source": [
    "LRC2gr2.get_params()"
   ]
  },
  {
   "cell_type": "code",
   "execution_count": 30,
   "metadata": {},
   "outputs": [
    {
     "data": {
      "text/plain": [
       "{'C': 1.0,\n",
       " 'class_weight': None,\n",
       " 'dual': False,\n",
       " 'fit_intercept': True,\n",
       " 'intercept_scaling': 1,\n",
       " 'l1_ratio': None,\n",
       " 'max_iter': 1000,\n",
       " 'multi_class': 'auto',\n",
       " 'n_jobs': None,\n",
       " 'penalty': 'l1',\n",
       " 'random_state': 42,\n",
       " 'solver': 'saga',\n",
       " 'tol': 1e-05,\n",
       " 'verbose': 0,\n",
       " 'warm_start': False}"
      ]
     },
     "execution_count": 30,
     "metadata": {},
     "output_type": "execute_result"
    }
   ],
   "source": [
    "LRC1.best_estimator_[\"LRC\"].get_params()"
   ]
  }
 ],
 "metadata": {
  "language_info": {
   "name": "python"
  }
 },
 "nbformat": 4,
 "nbformat_minor": 2
}
