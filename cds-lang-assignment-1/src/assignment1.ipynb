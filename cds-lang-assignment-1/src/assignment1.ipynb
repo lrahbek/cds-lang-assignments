{
 "cells": [
  {
   "cell_type": "markdown",
   "metadata": {},
   "source": [
    "### Extracting linguistic features using spaCy\n",
    "Assignment 1, Language analytics, CDS 2024\n",
    "Laura Givskov Rahbek "
   ]
  },
  {
   "cell_type": "markdown",
   "metadata": {},
   "source": [
    "#### Set up and import packacges "
   ]
  },
  {
   "cell_type": "code",
   "execution_count": 2,
   "metadata": {},
   "outputs": [],
   "source": [
    "import spacy\n",
    "import os \n",
    "import pandas as pd\n",
    "import glob\n",
    "import re;"
   ]
  },
  {
   "cell_type": "code",
   "execution_count": 3,
   "metadata": {},
   "outputs": [],
   "source": [
    "#nlp = spacy.load(\"en_core_web_md\")\n",
    "import en_core_web_sm\n",
    "nlp = en_core_web_sm.load()"
   ]
  },
  {
   "cell_type": "markdown",
   "metadata": {},
   "source": [
    "#### Define functions"
   ]
  },
  {
   "cell_type": "markdown",
   "metadata": {},
   "source": [
    "##### Relative frequency of word type in a text"
   ]
  },
  {
   "cell_type": "code",
   "execution_count": 4,
   "metadata": {},
   "outputs": [],
   "source": [
    "def rel_freq(count, len_doc):\n",
    "    return round((count/len_doc * 10000), 2)"
   ]
  },
  {
   "cell_type": "markdown",
   "metadata": {},
   "source": [
    "##### Retreiving number of unique persons, locations and organisations in a text"
   ]
  },
  {
   "cell_type": "code",
   "execution_count": 5,
   "metadata": {},
   "outputs": [],
   "source": [
    "def unique_NE(doc):\n",
    "    enteties = []\n",
    "    for e in doc.ents: \n",
    "        enteties.append((e.text, e.label_))\n",
    "    ents_pd = pd.DataFrame(enteties, columns=[\"ent\", \"label\"])\n",
    "    ents_pd = ents_pd.drop_duplicates()\n",
    "    unique_counts = ents_pd.value_counts(subset = \"label\")\n",
    "    \n",
    "    unique_labels = ['PERSON', 'GPE', 'ORG']\n",
    "    unique_row = []\n",
    "    for label in unique_labels:\n",
    "        if label in (unique_counts.index):\n",
    "            unique_row.append(unique_counts[label])\n",
    "        else: b\n",
    "            unique_row.append(0)\n",
    "\n",
    "    return unique_row"
   ]
  },
  {
   "cell_type": "markdown",
   "metadata": {},
   "source": [
    "#### Extract linguistic features for each text"
   ]
  },
  {
   "cell_type": "code",
   "execution_count": 6,
   "metadata": {},
   "outputs": [],
   "source": [
    "filepath = os.path.join(\"..\", \"in\", \"USEcorpus\")\n",
    "\n",
    "for subfolder in sorted(os.listdir(filepath)):\n",
    "    subfolder_path = os.path.join(filepath, subfolder)\n",
    "    \n",
    "    out_df = pd.DataFrame(columns=(\"Filename\",\"RelFreq NOUN\",\"RelFreq VERB\",\"RelFreq ADJ\",\"RelFreq ADV\",\"Unique PER\",\"Unique LOC\",\"Unique ORG\"))\n",
    "\n",
    "    outpath = os.path.join(\"..\", \"out\", f\"{subfolder}.csv\")\n",
    "\n",
    "    for file in sorted(glob.glob(os.path.join(subfolder_path, \"*.txt\"))):\n",
    "\n",
    "        with open(file, \"r\", encoding=\"latin-1\") as f:\n",
    "            text = f.read() #read each text file\n",
    "            text = re.sub(r'<*?>', '', text) #remov meta data \n",
    "            doc = nlp(text) #make text into doc\n",
    "    \n",
    "            len_doc = len(doc) #get total token count\n",
    "\n",
    "            text_name = file.split(\"/\")[-1]\n",
    "\n",
    "            noun_count, verb_count, adj_count, adv_count = 0, 0, 0, 0\n",
    "            \n",
    "            for token in doc:\n",
    "                if token.pos_ == \"NOUN\":\n",
    "                    noun_count += 1\n",
    "                if token.pos_ == \"VERB\":\n",
    "                    verb_count += 1\n",
    "                if token.pos_ == \"ADJ\":\n",
    "                    adj_count +=1\n",
    "                if token.pos_ == \"ADV\":\n",
    "                    adv_count +=1\n",
    "            \n",
    "            noun_rel, verb_rel, adj_rel, adv_rel = rel_freq(noun_count, len_doc), rel_freq(verb_count, len_doc), rel_freq(adj_count, len_doc), rel_freq(adv_count, len_doc)\n",
    "            \n",
    "            per, loc, org = unique_NE(doc)\n",
    "    \n",
    "            file_row = [text_name, noun_rel, verb_rel, adj_rel, adv_rel, per, loc, org]\n",
    "\n",
    "            out_df.loc[len(out_df)] = file_row\n",
    "\n",
    "    out_df.to_csv(outpath)                   "
   ]
  }
 ],
 "metadata": {
  "kernelspec": {
   "display_name": "Python 3",
   "language": "python",
   "name": "python3"
  },
  "language_info": {
   "codemirror_mode": {
    "name": "ipython",
    "version": 3
   },
   "file_extension": ".py",
   "mimetype": "text/x-python",
   "name": "python",
   "nbconvert_exporter": "python",
   "pygments_lexer": "ipython3",
   "version": "3.10.12"
  }
 },
 "nbformat": 4,
 "nbformat_minor": 2
}
